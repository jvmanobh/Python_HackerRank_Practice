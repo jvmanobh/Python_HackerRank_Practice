{
 "cells": [
  {
   "cell_type": "markdown",
   "metadata": {},
   "source": [
    "### Decode String \n",
    "\n",
    "The encoding logic is that we will place the string one by one across the digonals and use '_' for space characters.\n",
    "\n",
    "#### Example1:\n",
    "For example. given string 'my name is' and number of rows as 3. The encoding matrix will be like following:\n",
    "\n",
    "m, n, e, s, _\n",
    "\n",
    "_, y, a, _, _\n",
    "\n",
    "_, _, _, m, i\n",
    "\n",
    "\n",
    "We will provided with the string as 'mnes__ya_____mi' and number of rows as 3. We will have to decode the string back to 'my name is'\n",
    "\n",
    "#### Example2:\n",
    "Input string = 'CbiDv_i____ourieAc____lsssrma____u_tcee_____mF_odr' and number of rwos =5, The output should be as follows:\n",
    "'Columbus First Discovered America'\n",
    "\n",
    "C, b, i, D, v, _, i, _, _, _\n",
    "\n",
    "_, o, u, r, i, e, A, c, _, _\n",
    "\n",
    "_, _, l, s, s, s, r, m, a, _\n",
    "\n",
    "_, _, _, u, _, t, c, e, e, _\n",
    "\n",
    "_, _, _, _, m, F, _, o, d, r"
   ]
  },
  {
   "cell_type": "code",
   "execution_count": 5,
   "metadata": {},
   "outputs": [],
   "source": [
    "def decode(encodedString, row):\n",
    "    #Get number of columns from length of the string and row\n",
    "    col = int(len(encodedString)/row)\n",
    "    \n",
    "    #Converting string to matrix list format\n",
    "    s1 = [[encodedString[(i*col)+j] for j in range(col)] for i in range(row)]\n",
    "    \n",
    "    #Get characters across diagonals one by one starting from (0,0). if the character is '_' replace it with space\n",
    "    #Moving to next diagonal by adding 1 to previous start value(i.e (0,1)) and repeat the loop till last column\n",
    "    out=''\n",
    "    for c in range(col):\n",
    "        x, y = 0, c\n",
    "        for x,y in zip(range(row), range(c, col)):\n",
    "            if (s1[x][y]=='_'): out += ' '\n",
    "            else: out +=s1[x][y]\n",
    "    \n",
    "    return out.rstrip()"
   ]
  },
  {
   "cell_type": "code",
   "execution_count": 6,
   "metadata": {},
   "outputs": [
    {
     "data": {
      "text/plain": [
       "'my name is'"
      ]
     },
     "execution_count": 6,
     "metadata": {},
     "output_type": "execute_result"
    }
   ],
   "source": [
    "#Example1\n",
    "decode('mnes__ya_____mi', 3)"
   ]
  },
  {
   "cell_type": "code",
   "execution_count": 7,
   "metadata": {},
   "outputs": [
    {
     "data": {
      "text/plain": [
       "'Columbus First Discovered America'"
      ]
     },
     "execution_count": 7,
     "metadata": {},
     "output_type": "execute_result"
    }
   ],
   "source": [
    "#Example2\n",
    "decode('CbiDv_i____ourieAc____lsssrma____u_tcee_____mF_odr', 5)"
   ]
  }
 ],
 "metadata": {
  "kernelspec": {
   "display_name": "Python 3",
   "language": "python",
   "name": "python3"
  },
  "language_info": {
   "codemirror_mode": {
    "name": "ipython",
    "version": 3
   },
   "file_extension": ".py",
   "mimetype": "text/x-python",
   "name": "python",
   "nbconvert_exporter": "python",
   "pygments_lexer": "ipython3",
   "version": "3.7.0"
  }
 },
 "nbformat": 4,
 "nbformat_minor": 2
}
