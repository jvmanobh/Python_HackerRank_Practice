{
 "cells": [
  {
   "cell_type": "markdown",
   "metadata": {},
   "source": [
    "### Intelligent Substring\n",
    "\n",
    "#### Problem Statement:\n",
    "There are two types of characters in a particular language: special and normal. A character is special if its value is 1 and normal if its values is 0. Given String s, return the length of the longest substring of s that contains at most k normal characters. Whether a character is normal is determined by a 26-digit bit string named charValue. Each digit in charValue corresponds to a lowercase letter in English alphabet.\n",
    "\n",
    "#### Example1:\n",
    "* s ='abcde'\n",
    "\n",
    "* charValue = '10101111111111111111111111'\n",
    "\n",
    "Here, only {b, d} are normal characters.\n",
    "For k=2, the longest substring is 'abcde'. Hence the answer is 5.\n",
    "For k=1, the longest substrings are 'abc', 'cde'. Hence the answer is 3.\n",
    "\n",
    "#### Example2:\n",
    "* s = 'giraffe'\n",
    "\n",
    "* charValue = '01111001111111111011111111'\n",
    "\n",
    "Here, only {a, f, g, r} are normal characters.\n",
    "For k=2, the longest substrings are 'gir', 'ira', 'ffe'. Hence the answer is 3"
   ]
  },
  {
   "cell_type": "code",
   "execution_count": 2,
   "metadata": {},
   "outputs": [],
   "source": [
    "from collections import defaultdict\n",
    "import string"
   ]
  },
  {
   "cell_type": "code",
   "execution_count": 8,
   "metadata": {},
   "outputs": [],
   "source": [
    "def getSpecialSubstring(s, k, charValue):\n",
    "    #mapping charvalue to alphabets\n",
    "    dict1 = defaultdict(lambda:1, {k:v for k,v in zip(string.ascii_lowercase,charValue) if (v=='0')})\n",
    "    #Converting String to numerical format in list\n",
    "    s1 = [str(dict1[x]) for x in s]\n",
    "    \n",
    "    #Getting max substring for each letter in string s from left to right satisfying condition of atmost k normal characters\n",
    "    out = []\n",
    "    for x in range(len(s)):\n",
    "        flag, y = True, len(s)\n",
    "        while flag:\n",
    "            if (s1[x:y].count('0')<=k):\n",
    "                out.append(s1[x:y])\n",
    "                flag=False\n",
    "            elif (x<y-1):\n",
    "                y-=1\n",
    "            else:\n",
    "                flag=False\n",
    "    return (0 if (len(out)==0) else max([len(x) for x in out]))"
   ]
  },
  {
   "cell_type": "code",
   "execution_count": 11,
   "metadata": {},
   "outputs": [
    {
     "name": "stdout",
     "output_type": "stream",
     "text": [
      "5\n",
      "3\n"
     ]
    }
   ],
   "source": [
    "#Example1\n",
    "print(getSpecialSubstring('abcde', 2, '10101111111111111111111111'))\n",
    "print(getSpecialSubstring('abcde', 1, '10101111111111111111111111'))"
   ]
  },
  {
   "cell_type": "code",
   "execution_count": 12,
   "metadata": {},
   "outputs": [
    {
     "name": "stdout",
     "output_type": "stream",
     "text": [
      "3\n",
      "2\n"
     ]
    }
   ],
   "source": [
    "#Example2\n",
    "print(getSpecialSubstring('giraffe', 2, '01111001111111111011111111'))\n",
    "print(getSpecialSubstring('giraffe', 1, '01111001111111111011111111'))"
   ]
  }
 ],
 "metadata": {
  "kernelspec": {
   "display_name": "Python 3",
   "language": "python",
   "name": "python3"
  },
  "language_info": {
   "codemirror_mode": {
    "name": "ipython",
    "version": 3
   },
   "file_extension": ".py",
   "mimetype": "text/x-python",
   "name": "python",
   "nbconvert_exporter": "python",
   "pygments_lexer": "ipython3",
   "version": "3.7.0"
  }
 },
 "nbformat": 4,
 "nbformat_minor": 2
}
